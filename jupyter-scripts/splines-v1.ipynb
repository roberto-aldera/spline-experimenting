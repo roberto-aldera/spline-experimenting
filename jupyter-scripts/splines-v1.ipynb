{
 "cells": [
  {
   "cell_type": "code",
   "execution_count": 1,
   "metadata": {},
   "outputs": [
    {
     "name": "stdout",
     "output_type": "stream",
     "text": [
      "[[ 0.99518473 -0.09801714  0.          1.        ]\n",
      " [ 0.09801714  0.99518473  0.          0.        ]\n",
      " [ 0.          0.          1.          0.        ]\n",
      " [ 0.          0.          0.          1.        ]]\n"
     ]
    }
   ],
   "source": [
    "import numpy as np\n",
    "from scipy.linalg import logm, expm\n",
    "import matplotlib.pyplot as plt\n",
    "\n",
    "theta = -np.pi/32\n",
    "R = np.identity(3)\n",
    "R[0, :] = np.cos(theta), np.sin(theta), 0\n",
    "R[1, :] = -np.sin(theta), np.cos(theta), 0\n",
    "R[2, :] = 0, 0, 1\n",
    "a = np.array([[1], [0], [0]]) # position of origin frame a in reference frame b\n",
    "T0 = np.c_[R,a]\n",
    "T0 = np.r_[T0,np.array([[0,0,0,1]])]\n",
    "print(T0)\n",
    "\n",
    "transforms = [np.array(T0) for _ in range(10)]\n",
    "transforms[2][0,3]+=0.3\n",
    "transforms[2][1,3]-=0.3\n",
    "transforms[5][0,3]+=0.2\n",
    "transforms[5][1,3]-=0.4\n",
    "transforms[7][0,3]+=0.1\n",
    "transforms[7][1,3]-=0.1\n",
    "T_world = [np.identity(4)]\n",
    "\n",
    "for i in range(1, len(transforms)):\n",
    "    T_world.append(np.matmul(T_world[i-1],transforms[i]))\n",
    "\n",
    "omegas = []\n",
    "for i in range(len(transforms)-1):\n",
    "    omegas.append(logm(np.linalg.inv(T_world[i]) @ T_world[i + 1]))"
   ]
  },
  {
   "cell_type": "code",
   "execution_count": 4,
   "metadata": {},
   "outputs": [
    {
     "data": {
      "image/png": "[encoded data removed]",
      "text/plain": [
       "<Figure size 360x360 with 1 Axes>"
      ]
     },
     "metadata": {},
     "output_type": "display_data"
    }
   ],
   "source": [
    "num_intervals = len(transforms) - 3\n",
    "num_spline_points = 10\n",
    "C = 1/6 * np.array([[6,0,0,0],[5,3,-3,1],[1,3,3,-2],[0,0,0,1]])\n",
    "T_w_s = [[None for _ in range(num_intervals)] for _ in range(num_spline_points)]\n",
    "s_i = np.linspace(0, len(transforms) - 1, len(transforms))\n",
    "for i in range(num_intervals):\n",
    "    s_t = np.linspace(i + 1, i + 2, num_spline_points)\n",
    "    for t in range(num_spline_points):\n",
    "        u = s_t[t] - s_i[i+1]\n",
    "        u_vector = np.array([[1],[u],[u*u],[u*u*u]])\n",
    "        B = np.matmul(C, u_vector)\n",
    "        T_w_s[t][i] = T_world[i] @ expm(B[1] * omegas[i]) @ expm(B[2] * omegas[i+1]) @ expm(B[3] * omegas[i+2])\n",
    "\n",
    "plt.figure(figsize=(5,5))\n",
    "for i in range(len(transforms)):\n",
    "    plt.plot(T_world[i][0,3],T_world[i][1,3],'ro')\n",
    "\n",
    "for i in range(len(T_w_s)):\n",
    "    for j in range(num_intervals):\n",
    "        plt.plot(T_w_s[i][j][0,3],T_w_s[i][j][1,3],'b.')\n",
    "    \n",
    "plt.grid()"
   ]
  },
  {
   "cell_type": "code",
   "execution_count": 6,
   "metadata": {},
   "outputs": [
    {
     "data": {
      "text/plain": [
       "7"
      ]
     },
     "execution_count": 6,
     "metadata": {},
     "output_type": "execute_result"
    }
   ],
   "source": [
    "len(T_w_s[0])"
   ]
  },
  {
   "cell_type": "code",
   "execution_count": null,
   "metadata": {},
   "outputs": [],
   "source": []
  }
 ],
 "metadata": {
  "kernelspec": {
   "display_name": "Python 3",
   "language": "python",
   "name": "python3"
  },
  "language_info": {
   "codemirror_mode": {
    "name": "ipython",
    "version": 3
   },
   "file_extension": ".py",
   "mimetype": "text/x-python",
   "name": "python",
   "nbconvert_exporter": "python",
   "pygments_lexer": "ipython3",
   "version": "3.6.6"
  }
 },
 "nbformat": 4,
 "nbformat_minor": 2
}
